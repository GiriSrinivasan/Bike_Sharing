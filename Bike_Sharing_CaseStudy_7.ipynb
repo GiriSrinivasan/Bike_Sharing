{
  "nbformat": 4,
  "nbformat_minor": 0,
  "metadata": {
    "kernelspec": {
      "display_name": "Python 3",
      "language": "python",
      "name": "python3"
    },
    "language_info": {
      "codemirror_mode": {
        "name": "ipython",
        "version": 3
      },
      "file_extension": ".py",
      "mimetype": "text/x-python",
      "name": "python",
      "nbconvert_exporter": "python",
      "pygments_lexer": "ipython3",
      "version": "3.8.5"
    },
    "colab": {
      "name": "Bike_Sharing_CaseStudy_7.ipynb",
      "provenance": [],
      "include_colab_link": true
    }
  },
  "cells": [
    {
      "cell_type": "markdown",
      "metadata": {
        "id": "view-in-github",
        "colab_type": "text"
      },
      "source": [
        "<a href=\"https://colab.research.google.com/github/GiriSrinivasan/Bike_Sharing_CaseStudy_7/blob/main/Bike_Sharing_CaseStudy_7.ipynb\" target=\"_parent\"><img src=\"https://colab.research.google.com/assets/colab-badge.svg\" alt=\"Open In Colab\"/></a>"
      ]
    },
    {
      "cell_type": "code",
      "metadata": {
        "id": "Xjzt2jlnHS1z"
      },
      "source": [
        "import pandas as pd\n",
        "import matplotlib.pyplot as plt"
      ],
      "execution_count": null,
      "outputs": []
    },
    {
      "cell_type": "code",
      "metadata": {
        "id": "m3IZ-r0nHS2E"
      },
      "source": [
        "df = pd.read_csv('C:/Data Science/Case Studies/Bike Sharing/day.csv',index_col=0)"
      ],
      "execution_count": null,
      "outputs": []
    },
    {
      "cell_type": "code",
      "metadata": {
        "id": "VjSHks74HS2G",
        "outputId": "40c88972-f668-4e47-dc60-f3929fd4530d"
      },
      "source": [
        "df.head()"
      ],
      "execution_count": null,
      "outputs": [
        {
          "output_type": "execute_result",
          "data": {
            "text/html": [
              "<div>\n",
              "<style scoped>\n",
              "    .dataframe tbody tr th:only-of-type {\n",
              "        vertical-align: middle;\n",
              "    }\n",
              "\n",
              "    .dataframe tbody tr th {\n",
              "        vertical-align: top;\n",
              "    }\n",
              "\n",
              "    .dataframe thead th {\n",
              "        text-align: right;\n",
              "    }\n",
              "</style>\n",
              "<table border=\"1\" class=\"dataframe\">\n",
              "  <thead>\n",
              "    <tr style=\"text-align: right;\">\n",
              "      <th></th>\n",
              "      <th>dteday</th>\n",
              "      <th>season</th>\n",
              "      <th>yr</th>\n",
              "      <th>mnth</th>\n",
              "      <th>holiday</th>\n",
              "      <th>weekday</th>\n",
              "      <th>workingday</th>\n",
              "      <th>weathersit</th>\n",
              "      <th>temp</th>\n",
              "      <th>atemp</th>\n",
              "      <th>hum</th>\n",
              "      <th>windspeed</th>\n",
              "      <th>casual</th>\n",
              "      <th>registered</th>\n",
              "      <th>cnt</th>\n",
              "    </tr>\n",
              "    <tr>\n",
              "      <th>instant</th>\n",
              "      <th></th>\n",
              "      <th></th>\n",
              "      <th></th>\n",
              "      <th></th>\n",
              "      <th></th>\n",
              "      <th></th>\n",
              "      <th></th>\n",
              "      <th></th>\n",
              "      <th></th>\n",
              "      <th></th>\n",
              "      <th></th>\n",
              "      <th></th>\n",
              "      <th></th>\n",
              "      <th></th>\n",
              "      <th></th>\n",
              "    </tr>\n",
              "  </thead>\n",
              "  <tbody>\n",
              "    <tr>\n",
              "      <th>1</th>\n",
              "      <td>01-01-2018</td>\n",
              "      <td>1</td>\n",
              "      <td>0</td>\n",
              "      <td>1</td>\n",
              "      <td>0</td>\n",
              "      <td>6</td>\n",
              "      <td>0</td>\n",
              "      <td>2</td>\n",
              "      <td>14.110847</td>\n",
              "      <td>18.18125</td>\n",
              "      <td>80.5833</td>\n",
              "      <td>10.749882</td>\n",
              "      <td>331</td>\n",
              "      <td>654</td>\n",
              "      <td>985</td>\n",
              "    </tr>\n",
              "    <tr>\n",
              "      <th>2</th>\n",
              "      <td>02-01-2018</td>\n",
              "      <td>1</td>\n",
              "      <td>0</td>\n",
              "      <td>1</td>\n",
              "      <td>0</td>\n",
              "      <td>0</td>\n",
              "      <td>0</td>\n",
              "      <td>2</td>\n",
              "      <td>14.902598</td>\n",
              "      <td>17.68695</td>\n",
              "      <td>69.6087</td>\n",
              "      <td>16.652113</td>\n",
              "      <td>131</td>\n",
              "      <td>670</td>\n",
              "      <td>801</td>\n",
              "    </tr>\n",
              "    <tr>\n",
              "      <th>3</th>\n",
              "      <td>03-01-2018</td>\n",
              "      <td>1</td>\n",
              "      <td>0</td>\n",
              "      <td>1</td>\n",
              "      <td>0</td>\n",
              "      <td>1</td>\n",
              "      <td>1</td>\n",
              "      <td>1</td>\n",
              "      <td>8.050924</td>\n",
              "      <td>9.47025</td>\n",
              "      <td>43.7273</td>\n",
              "      <td>16.636703</td>\n",
              "      <td>120</td>\n",
              "      <td>1229</td>\n",
              "      <td>1349</td>\n",
              "    </tr>\n",
              "    <tr>\n",
              "      <th>4</th>\n",
              "      <td>04-01-2018</td>\n",
              "      <td>1</td>\n",
              "      <td>0</td>\n",
              "      <td>1</td>\n",
              "      <td>0</td>\n",
              "      <td>2</td>\n",
              "      <td>1</td>\n",
              "      <td>1</td>\n",
              "      <td>8.200000</td>\n",
              "      <td>10.60610</td>\n",
              "      <td>59.0435</td>\n",
              "      <td>10.739832</td>\n",
              "      <td>108</td>\n",
              "      <td>1454</td>\n",
              "      <td>1562</td>\n",
              "    </tr>\n",
              "    <tr>\n",
              "      <th>5</th>\n",
              "      <td>05-01-2018</td>\n",
              "      <td>1</td>\n",
              "      <td>0</td>\n",
              "      <td>1</td>\n",
              "      <td>0</td>\n",
              "      <td>3</td>\n",
              "      <td>1</td>\n",
              "      <td>1</td>\n",
              "      <td>9.305237</td>\n",
              "      <td>11.46350</td>\n",
              "      <td>43.6957</td>\n",
              "      <td>12.522300</td>\n",
              "      <td>82</td>\n",
              "      <td>1518</td>\n",
              "      <td>1600</td>\n",
              "    </tr>\n",
              "  </tbody>\n",
              "</table>\n",
              "</div>"
            ],
            "text/plain": [
              "             dteday  season  yr  mnth  holiday  weekday  workingday  \\\n",
              "instant                                                               \n",
              "1        01-01-2018       1   0     1        0        6           0   \n",
              "2        02-01-2018       1   0     1        0        0           0   \n",
              "3        03-01-2018       1   0     1        0        1           1   \n",
              "4        04-01-2018       1   0     1        0        2           1   \n",
              "5        05-01-2018       1   0     1        0        3           1   \n",
              "\n",
              "         weathersit       temp     atemp      hum  windspeed  casual  \\\n",
              "instant                                                                \n",
              "1                 2  14.110847  18.18125  80.5833  10.749882     331   \n",
              "2                 2  14.902598  17.68695  69.6087  16.652113     131   \n",
              "3                 1   8.050924   9.47025  43.7273  16.636703     120   \n",
              "4                 1   8.200000  10.60610  59.0435  10.739832     108   \n",
              "5                 1   9.305237  11.46350  43.6957  12.522300      82   \n",
              "\n",
              "         registered   cnt  \n",
              "instant                    \n",
              "1               654   985  \n",
              "2               670   801  \n",
              "3              1229  1349  \n",
              "4              1454  1562  \n",
              "5              1518  1600  "
            ]
          },
          "metadata": {
            "tags": []
          },
          "execution_count": 3
        }
      ]
    },
    {
      "cell_type": "code",
      "metadata": {
        "id": "x5DhXGx0HS2J",
        "outputId": "df38818f-591a-4ed4-b698-92ef8c99f999"
      },
      "source": [
        "df.isna().sum()"
      ],
      "execution_count": null,
      "outputs": [
        {
          "output_type": "execute_result",
          "data": {
            "text/plain": [
              "dteday        0\n",
              "season        0\n",
              "yr            0\n",
              "mnth          0\n",
              "holiday       0\n",
              "weekday       0\n",
              "workingday    0\n",
              "weathersit    0\n",
              "temp          0\n",
              "atemp         0\n",
              "hum           0\n",
              "windspeed     0\n",
              "casual        0\n",
              "registered    0\n",
              "cnt           0\n",
              "dtype: int64"
            ]
          },
          "metadata": {
            "tags": []
          },
          "execution_count": 4
        }
      ]
    },
    {
      "cell_type": "code",
      "metadata": {
        "id": "oTVaoTvcHS2K",
        "outputId": "e1a96f0b-f027-4ccc-881b-95e3ac35a3a8"
      },
      "source": [
        "df.columns"
      ],
      "execution_count": null,
      "outputs": [
        {
          "output_type": "execute_result",
          "data": {
            "text/plain": [
              "Index(['dteday', 'season', 'yr', 'mnth', 'holiday', 'weekday', 'workingday',\n",
              "       'weathersit', 'temp', 'atemp', 'hum', 'windspeed', 'casual',\n",
              "       'registered', 'cnt'],\n",
              "      dtype='object')"
            ]
          },
          "metadata": {
            "tags": []
          },
          "execution_count": 5
        }
      ]
    },
    {
      "cell_type": "code",
      "metadata": {
        "id": "G_UwEbXHHS2L",
        "outputId": "22f80cfb-67c0-4433-a518-8145edfd9698"
      },
      "source": [
        "df.info()"
      ],
      "execution_count": null,
      "outputs": [
        {
          "output_type": "stream",
          "text": [
            "<class 'pandas.core.frame.DataFrame'>\n",
            "Int64Index: 730 entries, 1 to 730\n",
            "Data columns (total 15 columns):\n",
            " #   Column      Non-Null Count  Dtype  \n",
            "---  ------      --------------  -----  \n",
            " 0   dteday      730 non-null    object \n",
            " 1   season      730 non-null    int64  \n",
            " 2   yr          730 non-null    int64  \n",
            " 3   mnth        730 non-null    int64  \n",
            " 4   holiday     730 non-null    int64  \n",
            " 5   weekday     730 non-null    int64  \n",
            " 6   workingday  730 non-null    int64  \n",
            " 7   weathersit  730 non-null    int64  \n",
            " 8   temp        730 non-null    float64\n",
            " 9   atemp       730 non-null    float64\n",
            " 10  hum         730 non-null    float64\n",
            " 11  windspeed   730 non-null    float64\n",
            " 12  casual      730 non-null    int64  \n",
            " 13  registered  730 non-null    int64  \n",
            " 14  cnt         730 non-null    int64  \n",
            "dtypes: float64(4), int64(10), object(1)\n",
            "memory usage: 91.2+ KB\n"
          ],
          "name": "stdout"
        }
      ]
    },
    {
      "cell_type": "code",
      "metadata": {
        "id": "UN3nMomvHS2M",
        "outputId": "7a09e066-d980-4fff-971a-6207d13b1e68"
      },
      "source": [
        "df['season'].unique()"
      ],
      "execution_count": null,
      "outputs": [
        {
          "output_type": "execute_result",
          "data": {
            "text/plain": [
              "array([1, 2, 3, 4], dtype=int64)"
            ]
          },
          "metadata": {
            "tags": []
          },
          "execution_count": 7
        }
      ]
    },
    {
      "cell_type": "code",
      "metadata": {
        "id": "yYd8VEBBHS2M"
      },
      "source": [
        "df['season'] = df['season'].replace(1,'spring')"
      ],
      "execution_count": null,
      "outputs": []
    },
    {
      "cell_type": "code",
      "metadata": {
        "id": "1PLu7IgNHS2N"
      },
      "source": [
        "df['season'] = df['season'].replace(2,'summer')"
      ],
      "execution_count": null,
      "outputs": []
    },
    {
      "cell_type": "code",
      "metadata": {
        "id": "3LwG2ESfHS2O"
      },
      "source": [
        "df['season'] = df['season'].replace(3,'fall')"
      ],
      "execution_count": null,
      "outputs": []
    },
    {
      "cell_type": "code",
      "metadata": {
        "id": "1wZMW5dIHS2P"
      },
      "source": [
        "df['season'] = df['season'].replace(4,'winter')"
      ],
      "execution_count": null,
      "outputs": []
    },
    {
      "cell_type": "code",
      "metadata": {
        "id": "1fQ86J8UHS2P",
        "outputId": "4184e301-af7a-4079-efef-ff8da24613d8"
      },
      "source": [
        "df.head()"
      ],
      "execution_count": null,
      "outputs": [
        {
          "output_type": "execute_result",
          "data": {
            "text/html": [
              "<div>\n",
              "<style scoped>\n",
              "    .dataframe tbody tr th:only-of-type {\n",
              "        vertical-align: middle;\n",
              "    }\n",
              "\n",
              "    .dataframe tbody tr th {\n",
              "        vertical-align: top;\n",
              "    }\n",
              "\n",
              "    .dataframe thead th {\n",
              "        text-align: right;\n",
              "    }\n",
              "</style>\n",
              "<table border=\"1\" class=\"dataframe\">\n",
              "  <thead>\n",
              "    <tr style=\"text-align: right;\">\n",
              "      <th></th>\n",
              "      <th>dteday</th>\n",
              "      <th>season</th>\n",
              "      <th>yr</th>\n",
              "      <th>mnth</th>\n",
              "      <th>holiday</th>\n",
              "      <th>weekday</th>\n",
              "      <th>workingday</th>\n",
              "      <th>weathersit</th>\n",
              "      <th>temp</th>\n",
              "      <th>atemp</th>\n",
              "      <th>hum</th>\n",
              "      <th>windspeed</th>\n",
              "      <th>casual</th>\n",
              "      <th>registered</th>\n",
              "      <th>cnt</th>\n",
              "    </tr>\n",
              "    <tr>\n",
              "      <th>instant</th>\n",
              "      <th></th>\n",
              "      <th></th>\n",
              "      <th></th>\n",
              "      <th></th>\n",
              "      <th></th>\n",
              "      <th></th>\n",
              "      <th></th>\n",
              "      <th></th>\n",
              "      <th></th>\n",
              "      <th></th>\n",
              "      <th></th>\n",
              "      <th></th>\n",
              "      <th></th>\n",
              "      <th></th>\n",
              "      <th></th>\n",
              "    </tr>\n",
              "  </thead>\n",
              "  <tbody>\n",
              "    <tr>\n",
              "      <th>1</th>\n",
              "      <td>01-01-2018</td>\n",
              "      <td>spring</td>\n",
              "      <td>0</td>\n",
              "      <td>1</td>\n",
              "      <td>0</td>\n",
              "      <td>6</td>\n",
              "      <td>0</td>\n",
              "      <td>2</td>\n",
              "      <td>14.110847</td>\n",
              "      <td>18.18125</td>\n",
              "      <td>80.5833</td>\n",
              "      <td>10.749882</td>\n",
              "      <td>331</td>\n",
              "      <td>654</td>\n",
              "      <td>985</td>\n",
              "    </tr>\n",
              "    <tr>\n",
              "      <th>2</th>\n",
              "      <td>02-01-2018</td>\n",
              "      <td>spring</td>\n",
              "      <td>0</td>\n",
              "      <td>1</td>\n",
              "      <td>0</td>\n",
              "      <td>0</td>\n",
              "      <td>0</td>\n",
              "      <td>2</td>\n",
              "      <td>14.902598</td>\n",
              "      <td>17.68695</td>\n",
              "      <td>69.6087</td>\n",
              "      <td>16.652113</td>\n",
              "      <td>131</td>\n",
              "      <td>670</td>\n",
              "      <td>801</td>\n",
              "    </tr>\n",
              "    <tr>\n",
              "      <th>3</th>\n",
              "      <td>03-01-2018</td>\n",
              "      <td>spring</td>\n",
              "      <td>0</td>\n",
              "      <td>1</td>\n",
              "      <td>0</td>\n",
              "      <td>1</td>\n",
              "      <td>1</td>\n",
              "      <td>1</td>\n",
              "      <td>8.050924</td>\n",
              "      <td>9.47025</td>\n",
              "      <td>43.7273</td>\n",
              "      <td>16.636703</td>\n",
              "      <td>120</td>\n",
              "      <td>1229</td>\n",
              "      <td>1349</td>\n",
              "    </tr>\n",
              "    <tr>\n",
              "      <th>4</th>\n",
              "      <td>04-01-2018</td>\n",
              "      <td>spring</td>\n",
              "      <td>0</td>\n",
              "      <td>1</td>\n",
              "      <td>0</td>\n",
              "      <td>2</td>\n",
              "      <td>1</td>\n",
              "      <td>1</td>\n",
              "      <td>8.200000</td>\n",
              "      <td>10.60610</td>\n",
              "      <td>59.0435</td>\n",
              "      <td>10.739832</td>\n",
              "      <td>108</td>\n",
              "      <td>1454</td>\n",
              "      <td>1562</td>\n",
              "    </tr>\n",
              "    <tr>\n",
              "      <th>5</th>\n",
              "      <td>05-01-2018</td>\n",
              "      <td>spring</td>\n",
              "      <td>0</td>\n",
              "      <td>1</td>\n",
              "      <td>0</td>\n",
              "      <td>3</td>\n",
              "      <td>1</td>\n",
              "      <td>1</td>\n",
              "      <td>9.305237</td>\n",
              "      <td>11.46350</td>\n",
              "      <td>43.6957</td>\n",
              "      <td>12.522300</td>\n",
              "      <td>82</td>\n",
              "      <td>1518</td>\n",
              "      <td>1600</td>\n",
              "    </tr>\n",
              "  </tbody>\n",
              "</table>\n",
              "</div>"
            ],
            "text/plain": [
              "             dteday  season  yr  mnth  holiday  weekday  workingday  \\\n",
              "instant                                                               \n",
              "1        01-01-2018  spring   0     1        0        6           0   \n",
              "2        02-01-2018  spring   0     1        0        0           0   \n",
              "3        03-01-2018  spring   0     1        0        1           1   \n",
              "4        04-01-2018  spring   0     1        0        2           1   \n",
              "5        05-01-2018  spring   0     1        0        3           1   \n",
              "\n",
              "         weathersit       temp     atemp      hum  windspeed  casual  \\\n",
              "instant                                                                \n",
              "1                 2  14.110847  18.18125  80.5833  10.749882     331   \n",
              "2                 2  14.902598  17.68695  69.6087  16.652113     131   \n",
              "3                 1   8.050924   9.47025  43.7273  16.636703     120   \n",
              "4                 1   8.200000  10.60610  59.0435  10.739832     108   \n",
              "5                 1   9.305237  11.46350  43.6957  12.522300      82   \n",
              "\n",
              "         registered   cnt  \n",
              "instant                    \n",
              "1               654   985  \n",
              "2               670   801  \n",
              "3              1229  1349  \n",
              "4              1454  1562  \n",
              "5              1518  1600  "
            ]
          },
          "metadata": {
            "tags": []
          },
          "execution_count": 12
        }
      ]
    },
    {
      "cell_type": "code",
      "metadata": {
        "id": "hXChVlojHS2Q",
        "outputId": "6825f24a-6517-4ab6-b310-938eed1a6147"
      },
      "source": [
        "df['season'].value_counts()"
      ],
      "execution_count": null,
      "outputs": [
        {
          "output_type": "execute_result",
          "data": {
            "text/plain": [
              "fall      188\n",
              "summer    184\n",
              "spring    180\n",
              "winter    178\n",
              "Name: season, dtype: int64"
            ]
          },
          "metadata": {
            "tags": []
          },
          "execution_count": 13
        }
      ]
    },
    {
      "cell_type": "code",
      "metadata": {
        "id": "8FtYSwZJHS2R"
      },
      "source": [
        "def object_map(x):\n",
        "    return x.map ({1:'Jan',2:'Feb',3:'March',4:'April',5:'May',6:'June',7:'July',8:'Aug',9:'Sep',10:'Oct',11:'Nov',12:'Dec'})"
      ],
      "execution_count": null,
      "outputs": []
    },
    {
      "cell_type": "code",
      "metadata": {
        "id": "OKSvElg1HS2R"
      },
      "source": [
        "df[['mnth']]=df[['mnth']].apply(object_map)"
      ],
      "execution_count": null,
      "outputs": []
    },
    {
      "cell_type": "code",
      "metadata": {
        "id": "zUHD2YAkHS2S",
        "outputId": "744e4331-059d-4b4d-f277-1c395099606a"
      },
      "source": [
        "df['mnth'].value_counts()"
      ],
      "execution_count": null,
      "outputs": [
        {
          "output_type": "execute_result",
          "data": {
            "text/plain": [
              "Aug      62\n",
              "Jan      62\n",
              "Dec      62\n",
              "July     62\n",
              "March    62\n",
              "May      62\n",
              "Oct      62\n",
              "June     60\n",
              "Sep      60\n",
              "Nov      60\n",
              "April    60\n",
              "Feb      56\n",
              "Name: mnth, dtype: int64"
            ]
          },
          "metadata": {
            "tags": []
          },
          "execution_count": 16
        }
      ]
    },
    {
      "cell_type": "code",
      "metadata": {
        "id": "gjHUT8xsHS2T",
        "outputId": "622e653c-52ac-4b6b-9db2-1f371c41f2f4"
      },
      "source": [
        "df['holiday'].value_counts()"
      ],
      "execution_count": null,
      "outputs": [
        {
          "output_type": "execute_result",
          "data": {
            "text/plain": [
              "0    709\n",
              "1     21\n",
              "Name: holiday, dtype: int64"
            ]
          },
          "metadata": {
            "tags": []
          },
          "execution_count": 17
        }
      ]
    },
    {
      "cell_type": "code",
      "metadata": {
        "id": "g-6QgI16HS2T",
        "outputId": "1c40dbaa-50ed-4bae-d47c-874f9feec797"
      },
      "source": [
        "df['weekday'].unique()"
      ],
      "execution_count": null,
      "outputs": [
        {
          "output_type": "execute_result",
          "data": {
            "text/plain": [
              "array([6, 0, 1, 2, 3, 4, 5], dtype=int64)"
            ]
          },
          "metadata": {
            "tags": []
          },
          "execution_count": 18
        }
      ]
    },
    {
      "cell_type": "code",
      "metadata": {
        "id": "2dXnxXKgHS2U"
      },
      "source": [
        "def str_map(x):\n",
        "    return x.map({1:'wed',2:'thu',3:'fri',4:'sat',5:'sun',6:'mon',0:'tues'})"
      ],
      "execution_count": null,
      "outputs": []
    },
    {
      "cell_type": "code",
      "metadata": {
        "id": "9bmWucyOHS2U"
      },
      "source": [
        "df[['weekday']]=df[['weekday']].apply(str_map)"
      ],
      "execution_count": null,
      "outputs": []
    },
    {
      "cell_type": "code",
      "metadata": {
        "id": "zTgRj3vMHS2V",
        "outputId": "54545625-b979-4cf8-9d8c-07d1d85c87c7"
      },
      "source": [
        "df['weekday'].value_counts()"
      ],
      "execution_count": null,
      "outputs": [
        {
          "output_type": "execute_result",
          "data": {
            "text/plain": [
              "wed     105\n",
              "tues    105\n",
              "mon     105\n",
              "sun     104\n",
              "thu     104\n",
              "sat     104\n",
              "fri     103\n",
              "Name: weekday, dtype: int64"
            ]
          },
          "metadata": {
            "tags": []
          },
          "execution_count": 21
        }
      ]
    },
    {
      "cell_type": "code",
      "metadata": {
        "id": "mDpQdWHRHS2W",
        "outputId": "bc12a87e-499d-42c0-bcb3-38700061d503"
      },
      "source": [
        "df['workingday'].value_counts()"
      ],
      "execution_count": null,
      "outputs": [
        {
          "output_type": "execute_result",
          "data": {
            "text/plain": [
              "1    499\n",
              "0    231\n",
              "Name: workingday, dtype: int64"
            ]
          },
          "metadata": {
            "tags": []
          },
          "execution_count": 22
        }
      ]
    },
    {
      "cell_type": "code",
      "metadata": {
        "id": "FrGEwWJ-HS2W",
        "outputId": "2cf4a9f3-c076-44d5-f407-982eee30e547"
      },
      "source": [
        "df['weathersit'].value_counts()"
      ],
      "execution_count": null,
      "outputs": [
        {
          "output_type": "execute_result",
          "data": {
            "text/plain": [
              "1    463\n",
              "2    246\n",
              "3     21\n",
              "Name: weathersit, dtype: int64"
            ]
          },
          "metadata": {
            "tags": []
          },
          "execution_count": 23
        }
      ]
    },
    {
      "cell_type": "code",
      "metadata": {
        "id": "zh9-tuMNHS2X"
      },
      "source": [
        "df.loc[(df['weathersit'] == 1), 'weathersit'] = \"A\""
      ],
      "execution_count": null,
      "outputs": []
    },
    {
      "cell_type": "code",
      "metadata": {
        "id": "Ka_FRPQbHS2X"
      },
      "source": [
        "df.loc[(df['weathersit'] == 2), 'weathersit'] = \"B\""
      ],
      "execution_count": null,
      "outputs": []
    },
    {
      "cell_type": "code",
      "metadata": {
        "id": "omoSXxFmHS2Y"
      },
      "source": [
        "df.loc[(df['weathersit'] == 3), 'weathersit'] = \"C\""
      ],
      "execution_count": null,
      "outputs": []
    },
    {
      "cell_type": "code",
      "metadata": {
        "id": "AxTf48IbHS2Y"
      },
      "source": [
        "df.loc[(df['weathersit'] == 4), 'weathersit'] = \"D\""
      ],
      "execution_count": null,
      "outputs": []
    },
    {
      "cell_type": "code",
      "metadata": {
        "id": "etbfU_A6HS2Z",
        "outputId": "67475f41-0056-4db6-8b09-99e58a48a508"
      },
      "source": [
        "df['weathersit'].value_counts()"
      ],
      "execution_count": null,
      "outputs": [
        {
          "output_type": "execute_result",
          "data": {
            "text/plain": [
              "A    463\n",
              "B    246\n",
              "C     21\n",
              "Name: weathersit, dtype: int64"
            ]
          },
          "metadata": {
            "tags": []
          },
          "execution_count": 28
        }
      ]
    },
    {
      "cell_type": "code",
      "metadata": {
        "id": "fw_xrNKIHS2Z",
        "outputId": "6433cac5-abbe-4464-dec0-512cab28e01a"
      },
      "source": [
        "df.info()"
      ],
      "execution_count": null,
      "outputs": [
        {
          "output_type": "stream",
          "text": [
            "<class 'pandas.core.frame.DataFrame'>\n",
            "Int64Index: 730 entries, 1 to 730\n",
            "Data columns (total 15 columns):\n",
            " #   Column      Non-Null Count  Dtype  \n",
            "---  ------      --------------  -----  \n",
            " 0   dteday      730 non-null    object \n",
            " 1   season      730 non-null    object \n",
            " 2   yr          730 non-null    int64  \n",
            " 3   mnth        730 non-null    object \n",
            " 4   holiday     730 non-null    int64  \n",
            " 5   weekday     730 non-null    object \n",
            " 6   workingday  730 non-null    int64  \n",
            " 7   weathersit  730 non-null    object \n",
            " 8   temp        730 non-null    float64\n",
            " 9   atemp       730 non-null    float64\n",
            " 10  hum         730 non-null    float64\n",
            " 11  windspeed   730 non-null    float64\n",
            " 12  casual      730 non-null    int64  \n",
            " 13  registered  730 non-null    int64  \n",
            " 14  cnt         730 non-null    int64  \n",
            "dtypes: float64(4), int64(6), object(5)\n",
            "memory usage: 91.2+ KB\n"
          ],
          "name": "stdout"
        }
      ]
    },
    {
      "cell_type": "code",
      "metadata": {
        "id": "mC5l2UlGHS2a"
      },
      "source": [
        "import seaborn as sns "
      ],
      "execution_count": null,
      "outputs": []
    },
    {
      "cell_type": "code",
      "metadata": {
        "id": "mHJdWSysHS2a",
        "outputId": "57b0a65e-321d-4fc6-fbc7-5787abdda931"
      },
      "source": [
        "_=sns.distplot(df['temp'])"
      ],
      "execution_count": null,
      "outputs": [
        {
          "output_type": "stream",
          "text": [
            "C:\\Users\\Giridharan.S\\anaconda3\\lib\\site-packages\\seaborn\\distributions.py:2551: FutureWarning: `distplot` is a deprecated function and will be removed in a future version. Please adapt your code to use either `displot` (a figure-level function with similar flexibility) or `histplot` (an axes-level function for histograms).\n",
            "  warnings.warn(msg, FutureWarning)\n"
          ],
          "name": "stderr"
        },
        {
          "output_type": "display_data",
          "data": {
            "image/png": "[encoded data removed]",
            "text/plain": [
              "<Figure size 432x288 with 1 Axes>"
            ]
          },
          "metadata": {
            "tags": [],
            "needs_background": "light"
          }
        }
      ]
    },
    {
      "cell_type": "code",
      "metadata": {
        "id": "yNA1rEIAHS2b",
        "outputId": "7e0c9f99-bd34-450b-ebd9-d00e56434939"
      },
      "source": [
        "_=sns.distplot(df['atemp'])"
      ],
      "execution_count": null,
      "outputs": [
        {
          "output_type": "stream",
          "text": [
            "C:\\Users\\Giridharan.S\\anaconda3\\lib\\site-packages\\seaborn\\distributions.py:2551: FutureWarning: `distplot` is a deprecated function and will be removed in a future version. Please adapt your code to use either `displot` (a figure-level function with similar flexibility) or `histplot` (an axes-level function for histograms).\n",
            "  warnings.warn(msg, FutureWarning)\n"
          ],
          "name": "stderr"
        },
        {
          "output_type": "display_data",
          "data": {
            "image/png": "[encoded data removed]",
            "text/plain": [
              "<Figure size 432x288 with 1 Axes>"
            ]
          },
          "metadata": {
            "tags": [],
            "needs_background": "light"
          }
        }
      ]
    },
    {
      "cell_type": "code",
      "metadata": {
        "id": "gCZkWo98HS2c",
        "outputId": "4998c8df-5489-4daf-dc59-5e6237290ca2"
      },
      "source": [
        "_=sns.distplot(df['hum'])"
      ],
      "execution_count": null,
      "outputs": [
        {
          "output_type": "stream",
          "text": [
            "C:\\Users\\Giridharan.S\\anaconda3\\lib\\site-packages\\seaborn\\distributions.py:2551: FutureWarning: `distplot` is a deprecated function and will be removed in a future version. Please adapt your code to use either `displot` (a figure-level function with similar flexibility) or `histplot` (an axes-level function for histograms).\n",
            "  warnings.warn(msg, FutureWarning)\n"
          ],
          "name": "stderr"
        },
        {
          "output_type": "display_data",
          "data": {
            "image/png": "[encoded data removed]",
            "text/plain": [
              "<Figure size 432x288 with 1 Axes>"
            ]
          },
          "metadata": {
            "tags": [],
            "needs_background": "light"
          }
        }
      ]
    },
    {
      "cell_type": "code",
      "metadata": {
        "id": "YrdLqG7dHS2c",
        "outputId": "bcc681cb-b82e-41f0-9bbb-3538e0b6245c"
      },
      "source": [
        "_=sns.distplot(df['windspeed'])"
      ],
      "execution_count": null,
      "outputs": [
        {
          "output_type": "stream",
          "text": [
            "C:\\Users\\Giridharan.S\\anaconda3\\lib\\site-packages\\seaborn\\distributions.py:2551: FutureWarning: `distplot` is a deprecated function and will be removed in a future version. Please adapt your code to use either `displot` (a figure-level function with similar flexibility) or `histplot` (an axes-level function for histograms).\n",
            "  warnings.warn(msg, FutureWarning)\n"
          ],
          "name": "stderr"
        },
        {
          "output_type": "display_data",
          "data": {
            "image/png": "[encoded data removed]",
            "text/plain": [
              "<Figure size 432x288 with 1 Axes>"
            ]
          },
          "metadata": {
            "tags": [],
            "needs_background": "light"
          }
        }
      ]
    },
    {
      "cell_type": "code",
      "metadata": {
        "id": "tFLnzDmsHS2d",
        "outputId": "621ae6bd-d3be-4b4d-831f-97a4f1152493"
      },
      "source": [
        "_=sns.distplot(df['cnt'])"
      ],
      "execution_count": null,
      "outputs": [
        {
          "output_type": "stream",
          "text": [
            "C:\\Users\\Giridharan.S\\anaconda3\\lib\\site-packages\\seaborn\\distributions.py:2551: FutureWarning: `distplot` is a deprecated function and will be removed in a future version. Please adapt your code to use either `displot` (a figure-level function with similar flexibility) or `histplot` (an axes-level function for histograms).\n",
            "  warnings.warn(msg, FutureWarning)\n"
          ],
          "name": "stderr"
        },
        {
          "output_type": "display_data",
          "data": {
            "image/png": "[encoded data removed]",
            "text/plain": [
              "<Figure size 432x288 with 1 Axes>"
            ]
          },
          "metadata": {
            "tags": [],
            "needs_background": "light"
          }
        }
      ]
    },
    {
      "cell_type": "code",
      "metadata": {
        "id": "Qh8F7GauHS2d",
        "outputId": "828b6ce3-f1d5-4665-adba-28f1c736ee0c"
      },
      "source": [
        "df.info()"
      ],
      "execution_count": null,
      "outputs": [
        {
          "output_type": "stream",
          "text": [
            "<class 'pandas.core.frame.DataFrame'>\n",
            "Int64Index: 730 entries, 1 to 730\n",
            "Data columns (total 15 columns):\n",
            " #   Column      Non-Null Count  Dtype  \n",
            "---  ------      --------------  -----  \n",
            " 0   dteday      730 non-null    object \n",
            " 1   season      730 non-null    object \n",
            " 2   yr          730 non-null    int64  \n",
            " 3   mnth        730 non-null    object \n",
            " 4   holiday     730 non-null    int64  \n",
            " 5   weekday     730 non-null    object \n",
            " 6   workingday  730 non-null    int64  \n",
            " 7   weathersit  730 non-null    object \n",
            " 8   temp        730 non-null    float64\n",
            " 9   atemp       730 non-null    float64\n",
            " 10  hum         730 non-null    float64\n",
            " 11  windspeed   730 non-null    float64\n",
            " 12  casual      730 non-null    int64  \n",
            " 13  registered  730 non-null    int64  \n",
            " 14  cnt         730 non-null    int64  \n",
            "dtypes: float64(4), int64(6), object(5)\n",
            "memory usage: 91.2+ KB\n"
          ],
          "name": "stdout"
        }
      ]
    },
    {
      "cell_type": "code",
      "metadata": {
        "id": "Kdm2PS5THS2e"
      },
      "source": [
        "df['dteday'] = pd.to_datetime(df['dteday'])"
      ],
      "execution_count": null,
      "outputs": []
    },
    {
      "cell_type": "code",
      "metadata": {
        "id": "aGqE4bA_HS2e",
        "outputId": "3825231e-c1fd-417c-d251-b1a2216fef7b"
      },
      "source": [
        "df.info()"
      ],
      "execution_count": null,
      "outputs": [
        {
          "output_type": "stream",
          "text": [
            "<class 'pandas.core.frame.DataFrame'>\n",
            "Int64Index: 730 entries, 1 to 730\n",
            "Data columns (total 15 columns):\n",
            " #   Column      Non-Null Count  Dtype         \n",
            "---  ------      --------------  -----         \n",
            " 0   dteday      730 non-null    datetime64[ns]\n",
            " 1   season      730 non-null    object        \n",
            " 2   yr          730 non-null    int64         \n",
            " 3   mnth        730 non-null    object        \n",
            " 4   holiday     730 non-null    int64         \n",
            " 5   weekday     730 non-null    object        \n",
            " 6   workingday  730 non-null    int64         \n",
            " 7   weathersit  730 non-null    object        \n",
            " 8   temp        730 non-null    float64       \n",
            " 9   atemp       730 non-null    float64       \n",
            " 10  hum         730 non-null    float64       \n",
            " 11  windspeed   730 non-null    float64       \n",
            " 12  casual      730 non-null    int64         \n",
            " 13  registered  730 non-null    int64         \n",
            " 14  cnt         730 non-null    int64         \n",
            "dtypes: datetime64[ns](1), float64(4), int64(6), object(4)\n",
            "memory usage: 91.2+ KB\n"
          ],
          "name": "stdout"
        }
      ]
    },
    {
      "cell_type": "code",
      "metadata": {
        "id": "S4Lwve4XHS2f"
      },
      "source": [
        "df_categorical = df.select_dtypes('object')"
      ],
      "execution_count": null,
      "outputs": []
    },
    {
      "cell_type": "code",
      "metadata": {
        "id": "njzQ9nr2HS2f",
        "outputId": "17f9f764-f9a9-4965-abed-89d3df41f9da"
      },
      "source": [
        "df_categorical.info()"
      ],
      "execution_count": null,
      "outputs": [
        {
          "output_type": "stream",
          "text": [
            "<class 'pandas.core.frame.DataFrame'>\n",
            "Int64Index: 730 entries, 1 to 730\n",
            "Data columns (total 4 columns):\n",
            " #   Column      Non-Null Count  Dtype \n",
            "---  ------      --------------  ----- \n",
            " 0   season      730 non-null    object\n",
            " 1   mnth        730 non-null    object\n",
            " 2   weekday     730 non-null    object\n",
            " 3   weathersit  730 non-null    object\n",
            "dtypes: object(4)\n",
            "memory usage: 28.5+ KB\n"
          ],
          "name": "stdout"
        }
      ]
    },
    {
      "cell_type": "code",
      "metadata": {
        "id": "nEznGJNBHS2g",
        "outputId": "06585161-9636-421f-a522-963c45ce97b5"
      },
      "source": [
        "df_categorical"
      ],
      "execution_count": null,
      "outputs": [
        {
          "output_type": "execute_result",
          "data": {
            "text/html": [
              "<div>\n",
              "<style scoped>\n",
              "    .dataframe tbody tr th:only-of-type {\n",
              "        vertical-align: middle;\n",
              "    }\n",
              "\n",
              "    .dataframe tbody tr th {\n",
              "        vertical-align: top;\n",
              "    }\n",
              "\n",
              "    .dataframe thead th {\n",
              "        text-align: right;\n",
              "    }\n",
              "</style>\n",
              "<table border=\"1\" class=\"dataframe\">\n",
              "  <thead>\n",
              "    <tr style=\"text-align: right;\">\n",
              "      <th></th>\n",
              "      <th>season</th>\n",
              "      <th>mnth</th>\n",
              "      <th>weekday</th>\n",
              "      <th>weathersit</th>\n",
              "    </tr>\n",
              "    <tr>\n",
              "      <th>instant</th>\n",
              "      <th></th>\n",
              "      <th></th>\n",
              "      <th></th>\n",
              "      <th></th>\n",
              "    </tr>\n",
              "  </thead>\n",
              "  <tbody>\n",
              "    <tr>\n",
              "      <th>1</th>\n",
              "      <td>spring</td>\n",
              "      <td>Jan</td>\n",
              "      <td>mon</td>\n",
              "      <td>B</td>\n",
              "    </tr>\n",
              "    <tr>\n",
              "      <th>2</th>\n",
              "      <td>spring</td>\n",
              "      <td>Jan</td>\n",
              "      <td>tues</td>\n",
              "      <td>B</td>\n",
              "    </tr>\n",
              "    <tr>\n",
              "      <th>3</th>\n",
              "      <td>spring</td>\n",
              "      <td>Jan</td>\n",
              "      <td>wed</td>\n",
              "      <td>A</td>\n",
              "    </tr>\n",
              "    <tr>\n",
              "      <th>4</th>\n",
              "      <td>spring</td>\n",
              "      <td>Jan</td>\n",
              "      <td>thu</td>\n",
              "      <td>A</td>\n",
              "    </tr>\n",
              "    <tr>\n",
              "      <th>5</th>\n",
              "      <td>spring</td>\n",
              "      <td>Jan</td>\n",
              "      <td>fri</td>\n",
              "      <td>A</td>\n",
              "    </tr>\n",
              "    <tr>\n",
              "      <th>...</th>\n",
              "      <td>...</td>\n",
              "      <td>...</td>\n",
              "      <td>...</td>\n",
              "      <td>...</td>\n",
              "    </tr>\n",
              "    <tr>\n",
              "      <th>726</th>\n",
              "      <td>spring</td>\n",
              "      <td>Dec</td>\n",
              "      <td>sat</td>\n",
              "      <td>B</td>\n",
              "    </tr>\n",
              "    <tr>\n",
              "      <th>727</th>\n",
              "      <td>spring</td>\n",
              "      <td>Dec</td>\n",
              "      <td>sun</td>\n",
              "      <td>B</td>\n",
              "    </tr>\n",
              "    <tr>\n",
              "      <th>728</th>\n",
              "      <td>spring</td>\n",
              "      <td>Dec</td>\n",
              "      <td>mon</td>\n",
              "      <td>B</td>\n",
              "    </tr>\n",
              "    <tr>\n",
              "      <th>729</th>\n",
              "      <td>spring</td>\n",
              "      <td>Dec</td>\n",
              "      <td>tues</td>\n",
              "      <td>A</td>\n",
              "    </tr>\n",
              "    <tr>\n",
              "      <th>730</th>\n",
              "      <td>spring</td>\n",
              "      <td>Dec</td>\n",
              "      <td>wed</td>\n",
              "      <td>B</td>\n",
              "    </tr>\n",
              "  </tbody>\n",
              "</table>\n",
              "<p>730 rows × 4 columns</p>\n",
              "</div>"
            ],
            "text/plain": [
              "         season mnth weekday weathersit\n",
              "instant                                \n",
              "1        spring  Jan     mon          B\n",
              "2        spring  Jan    tues          B\n",
              "3        spring  Jan     wed          A\n",
              "4        spring  Jan     thu          A\n",
              "5        spring  Jan     fri          A\n",
              "...         ...  ...     ...        ...\n",
              "726      spring  Dec     sat          B\n",
              "727      spring  Dec     sun          B\n",
              "728      spring  Dec     mon          B\n",
              "729      spring  Dec    tues          A\n",
              "730      spring  Dec     wed          B\n",
              "\n",
              "[730 rows x 4 columns]"
            ]
          },
          "metadata": {
            "tags": []
          },
          "execution_count": 41
        }
      ]
    },
    {
      "cell_type": "code",
      "metadata": {
        "id": "24emk81HHS2g",
        "outputId": "05547d96-132b-4a6f-a0cc-232b3a91fa10"
      },
      "source": [
        "plt.figure(figsize=(25,20))\n",
        "\n",
        "plt.subplot(3,3,1)\n",
        "sns.boxplot(x=df['season'],y=df['cnt'])\n",
        "\n",
        "plt.subplot(3,3,2)\n",
        "sns.boxplot(x='holiday',y='cnt',data=df)\n",
        "\n",
        "plt.subplot(3,3,3)\n",
        "sns.boxplot(x='workingday',y='cnt',data=df)\n",
        "\n",
        "plt.subplot(3,3,4)\n",
        "sns.boxplot(x='weathersit',y='cnt',data=df)\n",
        "\n",
        "plt.subplot(3,3,5)\n",
        "sns.boxplot(x='mnth',y='cnt',data=df)\n",
        "\n",
        "plt.subplot(3,3,6)\n",
        "sns.boxplot(x='weekday',y='cnt',data=df)\n",
        "\n",
        "plt.subplot(3,3,7)\n",
        "sns.boxplot(x='yr',y='cnt',data=df)\n",
        "\n",
        "plt.show()\n"
      ],
      "execution_count": null,
      "outputs": [
        {
          "output_type": "display_data",
          "data": {
            "image/png": "[encoded data removed]",
            "text/plain": [
              "<Figure size 1800x1440 with 7 Axes>"
            ]
          },
          "metadata": {
            "tags": [],
            "needs_background": "light"
          }
        }
      ]
    },
    {
      "cell_type": "markdown",
      "metadata": {
        "id": "vr0_zArHHS2h"
      },
      "source": [
        "Data Preparation"
      ]
    },
    {
      "cell_type": "code",
      "metadata": {
        "id": "qMFUe4AKHS2i",
        "outputId": "61b84aa7-5f6b-45a5-a061-368d583cce31"
      },
      "source": [
        "df.info()"
      ],
      "execution_count": null,
      "outputs": [
        {
          "output_type": "stream",
          "text": [
            "<class 'pandas.core.frame.DataFrame'>\n",
            "Int64Index: 730 entries, 1 to 730\n",
            "Data columns (total 15 columns):\n",
            " #   Column      Non-Null Count  Dtype         \n",
            "---  ------      --------------  -----         \n",
            " 0   dteday      730 non-null    datetime64[ns]\n",
            " 1   season      730 non-null    object        \n",
            " 2   yr          730 non-null    int64         \n",
            " 3   mnth        730 non-null    object        \n",
            " 4   holiday     730 non-null    int64         \n",
            " 5   weekday     730 non-null    object        \n",
            " 6   workingday  730 non-null    int64         \n",
            " 7   weathersit  730 non-null    object        \n",
            " 8   temp        730 non-null    float64       \n",
            " 9   atemp       730 non-null    float64       \n",
            " 10  hum         730 non-null    float64       \n",
            " 11  windspeed   730 non-null    float64       \n",
            " 12  casual      730 non-null    int64         \n",
            " 13  registered  730 non-null    int64         \n",
            " 14  cnt         730 non-null    int64         \n",
            "dtypes: datetime64[ns](1), float64(4), int64(6), object(4)\n",
            "memory usage: 111.2+ KB\n"
          ],
          "name": "stdout"
        }
      ]
    },
    {
      "cell_type": "code",
      "metadata": {
        "id": "6QH-cDMwHS2i"
      },
      "source": [
        "df_numeric=df.select_dtypes(include=['float64','int64'])"
      ],
      "execution_count": null,
      "outputs": []
    },
    {
      "cell_type": "code",
      "metadata": {
        "id": "xhY3HR0LHS2j",
        "outputId": "6f0729f3-8d19-4560-b1ba-a0a2abd24c8f"
      },
      "source": [
        "df_numeric.columns"
      ],
      "execution_count": null,
      "outputs": [
        {
          "output_type": "execute_result",
          "data": {
            "text/plain": [
              "Index(['yr', 'holiday', 'workingday', 'temp', 'atemp', 'hum', 'windspeed',\n",
              "       'casual', 'registered', 'cnt'],\n",
              "      dtype='object')"
            ]
          },
          "metadata": {
            "tags": []
          },
          "execution_count": 45
        }
      ]
    },
    {
      "cell_type": "code",
      "metadata": {
        "id": "34CBmDNjHS2j"
      },
      "source": [
        "df_numeric=df_numeric.drop(['yr', 'holiday', 'workingday'],axis=1)"
      ],
      "execution_count": null,
      "outputs": []
    },
    {
      "cell_type": "code",
      "metadata": {
        "id": "E8CMXsg_HS2k"
      },
      "source": [
        "import numpy as np"
      ],
      "execution_count": null,
      "outputs": []
    },
    {
      "cell_type": "code",
      "metadata": {
        "id": "zJNPEeKYHS2k",
        "outputId": "d48c2929-3812-42ec-9092-928e9528e407"
      },
      "source": [
        "mask=np.array(df_numeric.corr())\n",
        "mask[np.tril_indices_from(mask)]=False\n",
        "sns.heatmap(df_numeric.corr(),mask=mask,annot=True)\n",
        "plt.show()"
      ],
      "execution_count": null,
      "outputs": [
        {
          "output_type": "display_data",
          "data": {
            "image/png": "[encoded data removed]",
            "text/plain": [
              "<Figure size 432x288 with 2 Axes>"
            ]
          },
          "metadata": {
            "tags": [],
            "needs_background": "light"
          }
        }
      ]
    },
    {
      "cell_type": "code",
      "metadata": {
        "id": "LvNOJ2U6HS2l"
      },
      "source": [
        "df.drop(['atemp'],axis=1,inplace=True)"
      ],
      "execution_count": null,
      "outputs": []
    },
    {
      "cell_type": "code",
      "metadata": {
        "id": "AsPS4vdNHS2l",
        "outputId": "976ef636-4770-4498-fe2f-2bb3f3332b1b"
      },
      "source": [
        "df_numeric.info()"
      ],
      "execution_count": null,
      "outputs": [
        {
          "output_type": "stream",
          "text": [
            "<class 'pandas.core.frame.DataFrame'>\n",
            "Int64Index: 730 entries, 1 to 730\n",
            "Data columns (total 7 columns):\n",
            " #   Column      Non-Null Count  Dtype  \n",
            "---  ------      --------------  -----  \n",
            " 0   temp        730 non-null    float64\n",
            " 1   atemp       730 non-null    float64\n",
            " 2   hum         730 non-null    float64\n",
            " 3   windspeed   730 non-null    float64\n",
            " 4   casual      730 non-null    int64  \n",
            " 5   registered  730 non-null    int64  \n",
            " 6   cnt         730 non-null    int64  \n",
            "dtypes: float64(4), int64(3)\n",
            "memory usage: 65.6 KB\n"
          ],
          "name": "stdout"
        }
      ]
    },
    {
      "cell_type": "code",
      "metadata": {
        "id": "J3uqxFWFHS2m",
        "outputId": "5821bc07-1797-4972-a929-642d9df08018"
      },
      "source": [
        "df_categorical"
      ],
      "execution_count": null,
      "outputs": [
        {
          "output_type": "execute_result",
          "data": {
            "text/html": [
              "<div>\n",
              "<style scoped>\n",
              "    .dataframe tbody tr th:only-of-type {\n",
              "        vertical-align: middle;\n",
              "    }\n",
              "\n",
              "    .dataframe tbody tr th {\n",
              "        vertical-align: top;\n",
              "    }\n",
              "\n",
              "    .dataframe thead th {\n",
              "        text-align: right;\n",
              "    }\n",
              "</style>\n",
              "<table border=\"1\" class=\"dataframe\">\n",
              "  <thead>\n",
              "    <tr style=\"text-align: right;\">\n",
              "      <th></th>\n",
              "      <th>season</th>\n",
              "      <th>mnth</th>\n",
              "      <th>weekday</th>\n",
              "      <th>weathersit</th>\n",
              "    </tr>\n",
              "    <tr>\n",
              "      <th>instant</th>\n",
              "      <th></th>\n",
              "      <th></th>\n",
              "      <th></th>\n",
              "      <th></th>\n",
              "    </tr>\n",
              "  </thead>\n",
              "  <tbody>\n",
              "    <tr>\n",
              "      <th>1</th>\n",
              "      <td>spring</td>\n",
              "      <td>Jan</td>\n",
              "      <td>mon</td>\n",
              "      <td>B</td>\n",
              "    </tr>\n",
              "    <tr>\n",
              "      <th>2</th>\n",
              "      <td>spring</td>\n",
              "      <td>Jan</td>\n",
              "      <td>tues</td>\n",
              "      <td>B</td>\n",
              "    </tr>\n",
              "    <tr>\n",
              "      <th>3</th>\n",
              "      <td>spring</td>\n",
              "      <td>Jan</td>\n",
              "      <td>wed</td>\n",
              "      <td>A</td>\n",
              "    </tr>\n",
              "    <tr>\n",
              "      <th>4</th>\n",
              "      <td>spring</td>\n",
              "      <td>Jan</td>\n",
              "      <td>thu</td>\n",
              "      <td>A</td>\n",
              "    </tr>\n",
              "    <tr>\n",
              "      <th>5</th>\n",
              "      <td>spring</td>\n",
              "      <td>Jan</td>\n",
              "      <td>fri</td>\n",
              "      <td>A</td>\n",
              "    </tr>\n",
              "    <tr>\n",
              "      <th>...</th>\n",
              "      <td>...</td>\n",
              "      <td>...</td>\n",
              "      <td>...</td>\n",
              "      <td>...</td>\n",
              "    </tr>\n",
              "    <tr>\n",
              "      <th>726</th>\n",
              "      <td>spring</td>\n",
              "      <td>Dec</td>\n",
              "      <td>sat</td>\n",
              "      <td>B</td>\n",
              "    </tr>\n",
              "    <tr>\n",
              "      <th>727</th>\n",
              "      <td>spring</td>\n",
              "      <td>Dec</td>\n",
              "      <td>sun</td>\n",
              "      <td>B</td>\n",
              "    </tr>\n",
              "    <tr>\n",
              "      <th>728</th>\n",
              "      <td>spring</td>\n",
              "      <td>Dec</td>\n",
              "      <td>mon</td>\n",
              "      <td>B</td>\n",
              "    </tr>\n",
              "    <tr>\n",
              "      <th>729</th>\n",
              "      <td>spring</td>\n",
              "      <td>Dec</td>\n",
              "      <td>tues</td>\n",
              "      <td>A</td>\n",
              "    </tr>\n",
              "    <tr>\n",
              "      <th>730</th>\n",
              "      <td>spring</td>\n",
              "      <td>Dec</td>\n",
              "      <td>wed</td>\n",
              "      <td>B</td>\n",
              "    </tr>\n",
              "  </tbody>\n",
              "</table>\n",
              "<p>730 rows × 4 columns</p>\n",
              "</div>"
            ],
            "text/plain": [
              "         season mnth weekday weathersit\n",
              "instant                                \n",
              "1        spring  Jan     mon          B\n",
              "2        spring  Jan    tues          B\n",
              "3        spring  Jan     wed          A\n",
              "4        spring  Jan     thu          A\n",
              "5        spring  Jan     fri          A\n",
              "...         ...  ...     ...        ...\n",
              "726      spring  Dec     sat          B\n",
              "727      spring  Dec     sun          B\n",
              "728      spring  Dec     mon          B\n",
              "729      spring  Dec    tues          A\n",
              "730      spring  Dec     wed          B\n",
              "\n",
              "[730 rows x 4 columns]"
            ]
          },
          "metadata": {
            "tags": []
          },
          "execution_count": 51
        }
      ]
    },
    {
      "cell_type": "code",
      "metadata": {
        "id": "mQSB4Ue4HS2m"
      },
      "source": [
        "df_dummies=pd.get_dummies(df_categorical,drop_first=True)"
      ],
      "execution_count": null,
      "outputs": []
    },
    {
      "cell_type": "code",
      "metadata": {
        "id": "N0LhfLymHS2n",
        "outputId": "c13ddd45-815b-4b21-8249-78c142039c32"
      },
      "source": [
        "df_dummies"
      ],
      "execution_count": null,
      "outputs": [
        {
          "output_type": "execute_result",
          "data": {
            "text/html": [
              "<div>\n",
              "<style scoped>\n",
              "    .dataframe tbody tr th:only-of-type {\n",
              "        vertical-align: middle;\n",
              "    }\n",
              "\n",
              "    .dataframe tbody tr th {\n",
              "        vertical-align: top;\n",
              "    }\n",
              "\n",
              "    .dataframe thead th {\n",
              "        text-align: right;\n",
              "    }\n",
              "</style>\n",
              "<table border=\"1\" class=\"dataframe\">\n",
              "  <thead>\n",
              "    <tr style=\"text-align: right;\">\n",
              "      <th></th>\n",
              "      <th>season_spring</th>\n",
              "      <th>season_summer</th>\n",
              "      <th>season_winter</th>\n",
              "      <th>mnth_Aug</th>\n",
              "      <th>mnth_Dec</th>\n",
              "      <th>mnth_Feb</th>\n",
              "      <th>mnth_Jan</th>\n",
              "      <th>mnth_July</th>\n",
              "      <th>mnth_June</th>\n",
              "      <th>mnth_March</th>\n",
              "      <th>...</th>\n",
              "      <th>mnth_Oct</th>\n",
              "      <th>mnth_Sep</th>\n",
              "      <th>weekday_mon</th>\n",
              "      <th>weekday_sat</th>\n",
              "      <th>weekday_sun</th>\n",
              "      <th>weekday_thu</th>\n",
              "      <th>weekday_tues</th>\n",
              "      <th>weekday_wed</th>\n",
              "      <th>weathersit_B</th>\n",
              "      <th>weathersit_C</th>\n",
              "    </tr>\n",
              "    <tr>\n",
              "      <th>instant</th>\n",
              "      <th></th>\n",
              "      <th></th>\n",
              "      <th></th>\n",
              "      <th></th>\n",
              "      <th></th>\n",
              "      <th></th>\n",
              "      <th></th>\n",
              "      <th></th>\n",
              "      <th></th>\n",
              "      <th></th>\n",
              "      <th></th>\n",
              "      <th></th>\n",
              "      <th></th>\n",
              "      <th></th>\n",
              "      <th></th>\n",
              "      <th></th>\n",
              "      <th></th>\n",
              "      <th></th>\n",
              "      <th></th>\n",
              "      <th></th>\n",
              "      <th></th>\n",
              "    </tr>\n",
              "  </thead>\n",
              "  <tbody>\n",
              "    <tr>\n",
              "      <th>1</th>\n",
              "      <td>1</td>\n",
              "      <td>0</td>\n",
              "      <td>0</td>\n",
              "      <td>0</td>\n",
              "      <td>0</td>\n",
              "      <td>0</td>\n",
              "      <td>1</td>\n",
              "      <td>0</td>\n",
              "      <td>0</td>\n",
              "      <td>0</td>\n",
              "      <td>...</td>\n",
              "      <td>0</td>\n",
              "      <td>0</td>\n",
              "      <td>1</td>\n",
              "      <td>0</td>\n",
              "      <td>0</td>\n",
              "      <td>0</td>\n",
              "      <td>0</td>\n",
              "      <td>0</td>\n",
              "      <td>1</td>\n",
              "      <td>0</td>\n",
              "    </tr>\n",
              "    <tr>\n",
              "      <th>2</th>\n",
              "      <td>1</td>\n",
              "      <td>0</td>\n",
              "      <td>0</td>\n",
              "      <td>0</td>\n",
              "      <td>0</td>\n",
              "      <td>0</td>\n",
              "      <td>1</td>\n",
              "      <td>0</td>\n",
              "      <td>0</td>\n",
              "      <td>0</td>\n",
              "      <td>...</td>\n",
              "      <td>0</td>\n",
              "      <td>0</td>\n",
              "      <td>0</td>\n",
              "      <td>0</td>\n",
              "      <td>0</td>\n",
              "      <td>0</td>\n",
              "      <td>1</td>\n",
              "      <td>0</td>\n",
              "      <td>1</td>\n",
              "      <td>0</td>\n",
              "    </tr>\n",
              "    <tr>\n",
              "      <th>3</th>\n",
              "      <td>1</td>\n",
              "      <td>0</td>\n",
              "      <td>0</td>\n",
              "      <td>0</td>\n",
              "      <td>0</td>\n",
              "      <td>0</td>\n",
              "      <td>1</td>\n",
              "      <td>0</td>\n",
              "      <td>0</td>\n",
              "      <td>0</td>\n",
              "      <td>...</td>\n",
              "      <td>0</td>\n",
              "      <td>0</td>\n",
              "      <td>0</td>\n",
              "      <td>0</td>\n",
              "      <td>0</td>\n",
              "      <td>0</td>\n",
              "      <td>0</td>\n",
              "      <td>1</td>\n",
              "      <td>0</td>\n",
              "      <td>0</td>\n",
              "    </tr>\n",
              "    <tr>\n",
              "      <th>4</th>\n",
              "      <td>1</td>\n",
              "      <td>0</td>\n",
              "      <td>0</td>\n",
              "      <td>0</td>\n",
              "      <td>0</td>\n",
              "      <td>0</td>\n",
              "      <td>1</td>\n",
              "      <td>0</td>\n",
              "      <td>0</td>\n",
              "      <td>0</td>\n",
              "      <td>...</td>\n",
              "      <td>0</td>\n",
              "      <td>0</td>\n",
              "      <td>0</td>\n",
              "      <td>0</td>\n",
              "      <td>0</td>\n",
              "      <td>1</td>\n",
              "      <td>0</td>\n",
              "      <td>0</td>\n",
              "      <td>0</td>\n",
              "      <td>0</td>\n",
              "    </tr>\n",
              "    <tr>\n",
              "      <th>5</th>\n",
              "      <td>1</td>\n",
              "      <td>0</td>\n",
              "      <td>0</td>\n",
              "      <td>0</td>\n",
              "      <td>0</td>\n",
              "      <td>0</td>\n",
              "      <td>1</td>\n",
              "      <td>0</td>\n",
              "      <td>0</td>\n",
              "      <td>0</td>\n",
              "      <td>...</td>\n",
              "      <td>0</td>\n",
              "      <td>0</td>\n",
              "      <td>0</td>\n",
              "      <td>0</td>\n",
              "      <td>0</td>\n",
              "      <td>0</td>\n",
              "      <td>0</td>\n",
              "      <td>0</td>\n",
              "      <td>0</td>\n",
              "      <td>0</td>\n",
              "    </tr>\n",
              "    <tr>\n",
              "      <th>...</th>\n",
              "      <td>...</td>\n",
              "      <td>...</td>\n",
              "      <td>...</td>\n",
              "      <td>...</td>\n",
              "      <td>...</td>\n",
              "      <td>...</td>\n",
              "      <td>...</td>\n",
              "      <td>...</td>\n",
              "      <td>...</td>\n",
              "      <td>...</td>\n",
              "      <td>...</td>\n",
              "      <td>...</td>\n",
              "      <td>...</td>\n",
              "      <td>...</td>\n",
              "      <td>...</td>\n",
              "      <td>...</td>\n",
              "      <td>...</td>\n",
              "      <td>...</td>\n",
              "      <td>...</td>\n",
              "      <td>...</td>\n",
              "      <td>...</td>\n",
              "    </tr>\n",
              "    <tr>\n",
              "      <th>726</th>\n",
              "      <td>1</td>\n",
              "      <td>0</td>\n",
              "      <td>0</td>\n",
              "      <td>0</td>\n",
              "      <td>1</td>\n",
              "      <td>0</td>\n",
              "      <td>0</td>\n",
              "      <td>0</td>\n",
              "      <td>0</td>\n",
              "      <td>0</td>\n",
              "      <td>...</td>\n",
              "      <td>0</td>\n",
              "      <td>0</td>\n",
              "      <td>0</td>\n",
              "      <td>1</td>\n",
              "      <td>0</td>\n",
              "      <td>0</td>\n",
              "      <td>0</td>\n",
              "      <td>0</td>\n",
              "      <td>1</td>\n",
              "      <td>0</td>\n",
              "    </tr>\n",
              "    <tr>\n",
              "      <th>727</th>\n",
              "      <td>1</td>\n",
              "      <td>0</td>\n",
              "      <td>0</td>\n",
              "      <td>0</td>\n",
              "      <td>1</td>\n",
              "      <td>0</td>\n",
              "      <td>0</td>\n",
              "      <td>0</td>\n",
              "      <td>0</td>\n",
              "      <td>0</td>\n",
              "      <td>...</td>\n",
              "      <td>0</td>\n",
              "      <td>0</td>\n",
              "      <td>0</td>\n",
              "      <td>0</td>\n",
              "      <td>1</td>\n",
              "      <td>0</td>\n",
              "      <td>0</td>\n",
              "      <td>0</td>\n",
              "      <td>1</td>\n",
              "      <td>0</td>\n",
              "    </tr>\n",
              "    <tr>\n",
              "      <th>728</th>\n",
              "      <td>1</td>\n",
              "      <td>0</td>\n",
              "      <td>0</td>\n",
              "      <td>0</td>\n",
              "      <td>1</td>\n",
              "      <td>0</td>\n",
              "      <td>0</td>\n",
              "      <td>0</td>\n",
              "      <td>0</td>\n",
              "      <td>0</td>\n",
              "      <td>...</td>\n",
              "      <td>0</td>\n",
              "      <td>0</td>\n",
              "      <td>1</td>\n",
              "      <td>0</td>\n",
              "      <td>0</td>\n",
              "      <td>0</td>\n",
              "      <td>0</td>\n",
              "      <td>0</td>\n",
              "      <td>1</td>\n",
              "      <td>0</td>\n",
              "    </tr>\n",
              "    <tr>\n",
              "      <th>729</th>\n",
              "      <td>1</td>\n",
              "      <td>0</td>\n",
              "      <td>0</td>\n",
              "      <td>0</td>\n",
              "      <td>1</td>\n",
              "      <td>0</td>\n",
              "      <td>0</td>\n",
              "      <td>0</td>\n",
              "      <td>0</td>\n",
              "      <td>0</td>\n",
              "      <td>...</td>\n",
              "      <td>0</td>\n",
              "      <td>0</td>\n",
              "      <td>0</td>\n",
              "      <td>0</td>\n",
              "      <td>0</td>\n",
              "      <td>0</td>\n",
              "      <td>1</td>\n",
              "      <td>0</td>\n",
              "      <td>0</td>\n",
              "      <td>0</td>\n",
              "    </tr>\n",
              "    <tr>\n",
              "      <th>730</th>\n",
              "      <td>1</td>\n",
              "      <td>0</td>\n",
              "      <td>0</td>\n",
              "      <td>0</td>\n",
              "      <td>1</td>\n",
              "      <td>0</td>\n",
              "      <td>0</td>\n",
              "      <td>0</td>\n",
              "      <td>0</td>\n",
              "      <td>0</td>\n",
              "      <td>...</td>\n",
              "      <td>0</td>\n",
              "      <td>0</td>\n",
              "      <td>0</td>\n",
              "      <td>0</td>\n",
              "      <td>0</td>\n",
              "      <td>0</td>\n",
              "      <td>0</td>\n",
              "      <td>1</td>\n",
              "      <td>1</td>\n",
              "      <td>0</td>\n",
              "    </tr>\n",
              "  </tbody>\n",
              "</table>\n",
              "<p>730 rows × 22 columns</p>\n",
              "</div>"
            ],
            "text/plain": [
              "         season_spring  season_summer  season_winter  mnth_Aug  mnth_Dec  \\\n",
              "instant                                                                    \n",
              "1                    1              0              0         0         0   \n",
              "2                    1              0              0         0         0   \n",
              "3                    1              0              0         0         0   \n",
              "4                    1              0              0         0         0   \n",
              "5                    1              0              0         0         0   \n",
              "...                ...            ...            ...       ...       ...   \n",
              "726                  1              0              0         0         1   \n",
              "727                  1              0              0         0         1   \n",
              "728                  1              0              0         0         1   \n",
              "729                  1              0              0         0         1   \n",
              "730                  1              0              0         0         1   \n",
              "\n",
              "         mnth_Feb  mnth_Jan  mnth_July  mnth_June  mnth_March  ...  mnth_Oct  \\\n",
              "instant                                                        ...             \n",
              "1               0         1          0          0           0  ...         0   \n",
              "2               0         1          0          0           0  ...         0   \n",
              "3               0         1          0          0           0  ...         0   \n",
              "4               0         1          0          0           0  ...         0   \n",
              "5               0         1          0          0           0  ...         0   \n",
              "...           ...       ...        ...        ...         ...  ...       ...   \n",
              "726             0         0          0          0           0  ...         0   \n",
              "727             0         0          0          0           0  ...         0   \n",
              "728             0         0          0          0           0  ...         0   \n",
              "729             0         0          0          0           0  ...         0   \n",
              "730             0         0          0          0           0  ...         0   \n",
              "\n",
              "         mnth_Sep  weekday_mon  weekday_sat  weekday_sun  weekday_thu  \\\n",
              "instant                                                                 \n",
              "1               0            1            0            0            0   \n",
              "2               0            0            0            0            0   \n",
              "3               0            0            0            0            0   \n",
              "4               0            0            0            0            1   \n",
              "5               0            0            0            0            0   \n",
              "...           ...          ...          ...          ...          ...   \n",
              "726             0            0            1            0            0   \n",
              "727             0            0            0            1            0   \n",
              "728             0            1            0            0            0   \n",
              "729             0            0            0            0            0   \n",
              "730             0            0            0            0            0   \n",
              "\n",
              "         weekday_tues  weekday_wed  weathersit_B  weathersit_C  \n",
              "instant                                                         \n",
              "1                   0            0             1             0  \n",
              "2                   1            0             1             0  \n",
              "3                   0            1             0             0  \n",
              "4                   0            0             0             0  \n",
              "5                   0            0             0             0  \n",
              "...               ...          ...           ...           ...  \n",
              "726                 0            0             1             0  \n",
              "727                 0            0             1             0  \n",
              "728                 0            0             1             0  \n",
              "729                 1            0             0             0  \n",
              "730                 0            1             1             0  \n",
              "\n",
              "[730 rows x 22 columns]"
            ]
          },
          "metadata": {
            "tags": []
          },
          "execution_count": 53
        }
      ]
    },
    {
      "cell_type": "code",
      "metadata": {
        "id": "NGUOBdI9HS2n",
        "outputId": "8aada2da-1cb0-46c8-b629-6a5afef6eb53"
      },
      "source": [
        "df.info()"
      ],
      "execution_count": null,
      "outputs": [
        {
          "output_type": "stream",
          "text": [
            "<class 'pandas.core.frame.DataFrame'>\n",
            "Int64Index: 730 entries, 1 to 730\n",
            "Data columns (total 14 columns):\n",
            " #   Column      Non-Null Count  Dtype         \n",
            "---  ------      --------------  -----         \n",
            " 0   dteday      730 non-null    datetime64[ns]\n",
            " 1   season      730 non-null    object        \n",
            " 2   yr          730 non-null    int64         \n",
            " 3   mnth        730 non-null    object        \n",
            " 4   holiday     730 non-null    int64         \n",
            " 5   weekday     730 non-null    object        \n",
            " 6   workingday  730 non-null    int64         \n",
            " 7   weathersit  730 non-null    object        \n",
            " 8   temp        730 non-null    float64       \n",
            " 9   hum         730 non-null    float64       \n",
            " 10  windspeed   730 non-null    float64       \n",
            " 11  casual      730 non-null    int64         \n",
            " 12  registered  730 non-null    int64         \n",
            " 13  cnt         730 non-null    int64         \n",
            "dtypes: datetime64[ns](1), float64(3), int64(6), object(4)\n",
            "memory usage: 105.5+ KB\n"
          ],
          "name": "stdout"
        }
      ]
    },
    {
      "cell_type": "code",
      "metadata": {
        "id": "NTYNA4IDHS2o"
      },
      "source": [
        "df=df.drop(list(df_categorical.columns),axis=1)"
      ],
      "execution_count": null,
      "outputs": []
    },
    {
      "cell_type": "code",
      "metadata": {
        "id": "kTFW-2K7HS2o"
      },
      "source": [
        "df=pd.concat([df,df_dummies],axis=1)"
      ],
      "execution_count": null,
      "outputs": []
    },
    {
      "cell_type": "code",
      "metadata": {
        "id": "xyOjAfRGHS2p",
        "outputId": "11ce983e-6b61-4231-a5b8-308fe24f2b9a"
      },
      "source": [
        "df.head()"
      ],
      "execution_count": null,
      "outputs": [
        {
          "output_type": "execute_result",
          "data": {
            "text/html": [
              "<div>\n",
              "<style scoped>\n",
              "    .dataframe tbody tr th:only-of-type {\n",
              "        vertical-align: middle;\n",
              "    }\n",
              "\n",
              "    .dataframe tbody tr th {\n",
              "        vertical-align: top;\n",
              "    }\n",
              "\n",
              "    .dataframe thead th {\n",
              "        text-align: right;\n",
              "    }\n",
              "</style>\n",
              "<table border=\"1\" class=\"dataframe\">\n",
              "  <thead>\n",
              "    <tr style=\"text-align: right;\">\n",
              "      <th></th>\n",
              "      <th>dteday</th>\n",
              "      <th>yr</th>\n",
              "      <th>holiday</th>\n",
              "      <th>workingday</th>\n",
              "      <th>temp</th>\n",
              "      <th>hum</th>\n",
              "      <th>windspeed</th>\n",
              "      <th>casual</th>\n",
              "      <th>registered</th>\n",
              "      <th>cnt</th>\n",
              "      <th>...</th>\n",
              "      <th>mnth_Oct</th>\n",
              "      <th>mnth_Sep</th>\n",
              "      <th>weekday_mon</th>\n",
              "      <th>weekday_sat</th>\n",
              "      <th>weekday_sun</th>\n",
              "      <th>weekday_thu</th>\n",
              "      <th>weekday_tues</th>\n",
              "      <th>weekday_wed</th>\n",
              "      <th>weathersit_B</th>\n",
              "      <th>weathersit_C</th>\n",
              "    </tr>\n",
              "    <tr>\n",
              "      <th>instant</th>\n",
              "      <th></th>\n",
              "      <th></th>\n",
              "      <th></th>\n",
              "      <th></th>\n",
              "      <th></th>\n",
              "      <th></th>\n",
              "      <th></th>\n",
              "      <th></th>\n",
              "      <th></th>\n",
              "      <th></th>\n",
              "      <th></th>\n",
              "      <th></th>\n",
              "      <th></th>\n",
              "      <th></th>\n",
              "      <th></th>\n",
              "      <th></th>\n",
              "      <th></th>\n",
              "      <th></th>\n",
              "      <th></th>\n",
              "      <th></th>\n",
              "      <th></th>\n",
              "    </tr>\n",
              "  </thead>\n",
              "  <tbody>\n",
              "    <tr>\n",
              "      <th>1</th>\n",
              "      <td>2018-01-01</td>\n",
              "      <td>0</td>\n",
              "      <td>0</td>\n",
              "      <td>0</td>\n",
              "      <td>14.110847</td>\n",
              "      <td>80.5833</td>\n",
              "      <td>10.749882</td>\n",
              "      <td>331</td>\n",
              "      <td>654</td>\n",
              "      <td>985</td>\n",
              "      <td>...</td>\n",
              "      <td>0</td>\n",
              "      <td>0</td>\n",
              "      <td>1</td>\n",
              "      <td>0</td>\n",
              "      <td>0</td>\n",
              "      <td>0</td>\n",
              "      <td>0</td>\n",
              "      <td>0</td>\n",
              "      <td>1</td>\n",
              "      <td>0</td>\n",
              "    </tr>\n",
              "    <tr>\n",
              "      <th>2</th>\n",
              "      <td>2018-02-01</td>\n",
              "      <td>0</td>\n",
              "      <td>0</td>\n",
              "      <td>0</td>\n",
              "      <td>14.902598</td>\n",
              "      <td>69.6087</td>\n",
              "      <td>16.652113</td>\n",
              "      <td>131</td>\n",
              "      <td>670</td>\n",
              "      <td>801</td>\n",
              "      <td>...</td>\n",
              "      <td>0</td>\n",
              "      <td>0</td>\n",
              "      <td>0</td>\n",
              "      <td>0</td>\n",
              "      <td>0</td>\n",
              "      <td>0</td>\n",
              "      <td>1</td>\n",
              "      <td>0</td>\n",
              "      <td>1</td>\n",
              "      <td>0</td>\n",
              "    </tr>\n",
              "    <tr>\n",
              "      <th>3</th>\n",
              "      <td>2018-03-01</td>\n",
              "      <td>0</td>\n",
              "      <td>0</td>\n",
              "      <td>1</td>\n",
              "      <td>8.050924</td>\n",
              "      <td>43.7273</td>\n",
              "      <td>16.636703</td>\n",
              "      <td>120</td>\n",
              "      <td>1229</td>\n",
              "      <td>1349</td>\n",
              "      <td>...</td>\n",
              "      <td>0</td>\n",
              "      <td>0</td>\n",
              "      <td>0</td>\n",
              "      <td>0</td>\n",
              "      <td>0</td>\n",
              "      <td>0</td>\n",
              "      <td>0</td>\n",
              "      <td>1</td>\n",
              "      <td>0</td>\n",
              "      <td>0</td>\n",
              "    </tr>\n",
              "    <tr>\n",
              "      <th>4</th>\n",
              "      <td>2018-04-01</td>\n",
              "      <td>0</td>\n",
              "      <td>0</td>\n",
              "      <td>1</td>\n",
              "      <td>8.200000</td>\n",
              "      <td>59.0435</td>\n",
              "      <td>10.739832</td>\n",
              "      <td>108</td>\n",
              "      <td>1454</td>\n",
              "      <td>1562</td>\n",
              "      <td>...</td>\n",
              "      <td>0</td>\n",
              "      <td>0</td>\n",
              "      <td>0</td>\n",
              "      <td>0</td>\n",
              "      <td>0</td>\n",
              "      <td>1</td>\n",
              "      <td>0</td>\n",
              "      <td>0</td>\n",
              "      <td>0</td>\n",
              "      <td>0</td>\n",
              "    </tr>\n",
              "    <tr>\n",
              "      <th>5</th>\n",
              "      <td>2018-05-01</td>\n",
              "      <td>0</td>\n",
              "      <td>0</td>\n",
              "      <td>1</td>\n",
              "      <td>9.305237</td>\n",
              "      <td>43.6957</td>\n",
              "      <td>12.522300</td>\n",
              "      <td>82</td>\n",
              "      <td>1518</td>\n",
              "      <td>1600</td>\n",
              "      <td>...</td>\n",
              "      <td>0</td>\n",
              "      <td>0</td>\n",
              "      <td>0</td>\n",
              "      <td>0</td>\n",
              "      <td>0</td>\n",
              "      <td>0</td>\n",
              "      <td>0</td>\n",
              "      <td>0</td>\n",
              "      <td>0</td>\n",
              "      <td>0</td>\n",
              "    </tr>\n",
              "  </tbody>\n",
              "</table>\n",
              "<p>5 rows × 32 columns</p>\n",
              "</div>"
            ],
            "text/plain": [
              "            dteday  yr  holiday  workingday       temp      hum  windspeed  \\\n",
              "instant                                                                      \n",
              "1       2018-01-01   0        0           0  14.110847  80.5833  10.749882   \n",
              "2       2018-02-01   0        0           0  14.902598  69.6087  16.652113   \n",
              "3       2018-03-01   0        0           1   8.050924  43.7273  16.636703   \n",
              "4       2018-04-01   0        0           1   8.200000  59.0435  10.739832   \n",
              "5       2018-05-01   0        0           1   9.305237  43.6957  12.522300   \n",
              "\n",
              "         casual  registered   cnt  ...  mnth_Oct  mnth_Sep  weekday_mon  \\\n",
              "instant                            ...                                    \n",
              "1           331         654   985  ...         0         0            1   \n",
              "2           131         670   801  ...         0         0            0   \n",
              "3           120        1229  1349  ...         0         0            0   \n",
              "4           108        1454  1562  ...         0         0            0   \n",
              "5            82        1518  1600  ...         0         0            0   \n",
              "\n",
              "         weekday_sat  weekday_sun  weekday_thu  weekday_tues  weekday_wed  \\\n",
              "instant                                                                     \n",
              "1                  0            0            0             0            0   \n",
              "2                  0            0            0             1            0   \n",
              "3                  0            0            0             0            1   \n",
              "4                  0            0            1             0            0   \n",
              "5                  0            0            0             0            0   \n",
              "\n",
              "         weathersit_B  weathersit_C  \n",
              "instant                              \n",
              "1                   1             0  \n",
              "2                   1             0  \n",
              "3                   0             0  \n",
              "4                   0             0  \n",
              "5                   0             0  \n",
              "\n",
              "[5 rows x 32 columns]"
            ]
          },
          "metadata": {
            "tags": []
          },
          "execution_count": 57
        }
      ]
    },
    {
      "cell_type": "code",
      "metadata": {
        "id": "V3SHHR2oHS2p",
        "outputId": "80752ec9-c15f-4db6-a8a0-77b1ea85c768"
      },
      "source": [
        "df.info()"
      ],
      "execution_count": null,
      "outputs": [
        {
          "output_type": "stream",
          "text": [
            "<class 'pandas.core.frame.DataFrame'>\n",
            "Int64Index: 730 entries, 1 to 730\n",
            "Data columns (total 32 columns):\n",
            " #   Column         Non-Null Count  Dtype         \n",
            "---  ------         --------------  -----         \n",
            " 0   dteday         730 non-null    datetime64[ns]\n",
            " 1   yr             730 non-null    int64         \n",
            " 2   holiday        730 non-null    int64         \n",
            " 3   workingday     730 non-null    int64         \n",
            " 4   temp           730 non-null    float64       \n",
            " 5   hum            730 non-null    float64       \n",
            " 6   windspeed      730 non-null    float64       \n",
            " 7   casual         730 non-null    int64         \n",
            " 8   registered     730 non-null    int64         \n",
            " 9   cnt            730 non-null    int64         \n",
            " 10  season_spring  730 non-null    uint8         \n",
            " 11  season_summer  730 non-null    uint8         \n",
            " 12  season_winter  730 non-null    uint8         \n",
            " 13  mnth_Aug       730 non-null    uint8         \n",
            " 14  mnth_Dec       730 non-null    uint8         \n",
            " 15  mnth_Feb       730 non-null    uint8         \n",
            " 16  mnth_Jan       730 non-null    uint8         \n",
            " 17  mnth_July      730 non-null    uint8         \n",
            " 18  mnth_June      730 non-null    uint8         \n",
            " 19  mnth_March     730 non-null    uint8         \n",
            " 20  mnth_May       730 non-null    uint8         \n",
            " 21  mnth_Nov       730 non-null    uint8         \n",
            " 22  mnth_Oct       730 non-null    uint8         \n",
            " 23  mnth_Sep       730 non-null    uint8         \n",
            " 24  weekday_mon    730 non-null    uint8         \n",
            " 25  weekday_sat    730 non-null    uint8         \n",
            " 26  weekday_sun    730 non-null    uint8         \n",
            " 27  weekday_thu    730 non-null    uint8         \n",
            " 28  weekday_tues   730 non-null    uint8         \n",
            " 29  weekday_wed    730 non-null    uint8         \n",
            " 30  weathersit_B   730 non-null    uint8         \n",
            " 31  weathersit_C   730 non-null    uint8         \n",
            "dtypes: datetime64[ns](1), float64(3), int64(6), uint8(22)\n",
            "memory usage: 98.4 KB\n"
          ],
          "name": "stdout"
        }
      ]
    },
    {
      "cell_type": "code",
      "metadata": {
        "id": "zE85RlVQHS2q"
      },
      "source": [
        "df.drop(['dteday'],axis=1,inplace=True)"
      ],
      "execution_count": null,
      "outputs": []
    },
    {
      "cell_type": "code",
      "metadata": {
        "id": "58pjjBYHHS2q",
        "outputId": "dfaa97df-39c7-436f-984c-ff515d89a059"
      },
      "source": [
        "df.head()"
      ],
      "execution_count": null,
      "outputs": [
        {
          "output_type": "execute_result",
          "data": {
            "text/html": [
              "<div>\n",
              "<style scoped>\n",
              "    .dataframe tbody tr th:only-of-type {\n",
              "        vertical-align: middle;\n",
              "    }\n",
              "\n",
              "    .dataframe tbody tr th {\n",
              "        vertical-align: top;\n",
              "    }\n",
              "\n",
              "    .dataframe thead th {\n",
              "        text-align: right;\n",
              "    }\n",
              "</style>\n",
              "<table border=\"1\" class=\"dataframe\">\n",
              "  <thead>\n",
              "    <tr style=\"text-align: right;\">\n",
              "      <th></th>\n",
              "      <th>yr</th>\n",
              "      <th>holiday</th>\n",
              "      <th>workingday</th>\n",
              "      <th>temp</th>\n",
              "      <th>hum</th>\n",
              "      <th>windspeed</th>\n",
              "      <th>casual</th>\n",
              "      <th>registered</th>\n",
              "      <th>cnt</th>\n",
              "      <th>season_spring</th>\n",
              "      <th>...</th>\n",
              "      <th>mnth_Oct</th>\n",
              "      <th>mnth_Sep</th>\n",
              "      <th>weekday_mon</th>\n",
              "      <th>weekday_sat</th>\n",
              "      <th>weekday_sun</th>\n",
              "      <th>weekday_thu</th>\n",
              "      <th>weekday_tues</th>\n",
              "      <th>weekday_wed</th>\n",
              "      <th>weathersit_B</th>\n",
              "      <th>weathersit_C</th>\n",
              "    </tr>\n",
              "    <tr>\n",
              "      <th>instant</th>\n",
              "      <th></th>\n",
              "      <th></th>\n",
              "      <th></th>\n",
              "      <th></th>\n",
              "      <th></th>\n",
              "      <th></th>\n",
              "      <th></th>\n",
              "      <th></th>\n",
              "      <th></th>\n",
              "      <th></th>\n",
              "      <th></th>\n",
              "      <th></th>\n",
              "      <th></th>\n",
              "      <th></th>\n",
              "      <th></th>\n",
              "      <th></th>\n",
              "      <th></th>\n",
              "      <th></th>\n",
              "      <th></th>\n",
              "      <th></th>\n",
              "      <th></th>\n",
              "    </tr>\n",
              "  </thead>\n",
              "  <tbody>\n",
              "    <tr>\n",
              "      <th>1</th>\n",
              "      <td>0</td>\n",
              "      <td>0</td>\n",
              "      <td>0</td>\n",
              "      <td>14.110847</td>\n",
              "      <td>80.5833</td>\n",
              "      <td>10.749882</td>\n",
              "      <td>331</td>\n",
              "      <td>654</td>\n",
              "      <td>985</td>\n",
              "      <td>1</td>\n",
              "      <td>...</td>\n",
              "      <td>0</td>\n",
              "      <td>0</td>\n",
              "      <td>1</td>\n",
              "      <td>0</td>\n",
              "      <td>0</td>\n",
              "      <td>0</td>\n",
              "      <td>0</td>\n",
              "      <td>0</td>\n",
              "      <td>1</td>\n",
              "      <td>0</td>\n",
              "    </tr>\n",
              "    <tr>\n",
              "      <th>2</th>\n",
              "      <td>0</td>\n",
              "      <td>0</td>\n",
              "      <td>0</td>\n",
              "      <td>14.902598</td>\n",
              "      <td>69.6087</td>\n",
              "      <td>16.652113</td>\n",
              "      <td>131</td>\n",
              "      <td>670</td>\n",
              "      <td>801</td>\n",
              "      <td>1</td>\n",
              "      <td>...</td>\n",
              "      <td>0</td>\n",
              "      <td>0</td>\n",
              "      <td>0</td>\n",
              "      <td>0</td>\n",
              "      <td>0</td>\n",
              "      <td>0</td>\n",
              "      <td>1</td>\n",
              "      <td>0</td>\n",
              "      <td>1</td>\n",
              "      <td>0</td>\n",
              "    </tr>\n",
              "    <tr>\n",
              "      <th>3</th>\n",
              "      <td>0</td>\n",
              "      <td>0</td>\n",
              "      <td>1</td>\n",
              "      <td>8.050924</td>\n",
              "      <td>43.7273</td>\n",
              "      <td>16.636703</td>\n",
              "      <td>120</td>\n",
              "      <td>1229</td>\n",
              "      <td>1349</td>\n",
              "      <td>1</td>\n",
              "      <td>...</td>\n",
              "      <td>0</td>\n",
              "      <td>0</td>\n",
              "      <td>0</td>\n",
              "      <td>0</td>\n",
              "      <td>0</td>\n",
              "      <td>0</td>\n",
              "      <td>0</td>\n",
              "      <td>1</td>\n",
              "      <td>0</td>\n",
              "      <td>0</td>\n",
              "    </tr>\n",
              "    <tr>\n",
              "      <th>4</th>\n",
              "      <td>0</td>\n",
              "      <td>0</td>\n",
              "      <td>1</td>\n",
              "      <td>8.200000</td>\n",
              "      <td>59.0435</td>\n",
              "      <td>10.739832</td>\n",
              "      <td>108</td>\n",
              "      <td>1454</td>\n",
              "      <td>1562</td>\n",
              "      <td>1</td>\n",
              "      <td>...</td>\n",
              "      <td>0</td>\n",
              "      <td>0</td>\n",
              "      <td>0</td>\n",
              "      <td>0</td>\n",
              "      <td>0</td>\n",
              "      <td>1</td>\n",
              "      <td>0</td>\n",
              "      <td>0</td>\n",
              "      <td>0</td>\n",
              "      <td>0</td>\n",
              "    </tr>\n",
              "    <tr>\n",
              "      <th>5</th>\n",
              "      <td>0</td>\n",
              "      <td>0</td>\n",
              "      <td>1</td>\n",
              "      <td>9.305237</td>\n",
              "      <td>43.6957</td>\n",
              "      <td>12.522300</td>\n",
              "      <td>82</td>\n",
              "      <td>1518</td>\n",
              "      <td>1600</td>\n",
              "      <td>1</td>\n",
              "      <td>...</td>\n",
              "      <td>0</td>\n",
              "      <td>0</td>\n",
              "      <td>0</td>\n",
              "      <td>0</td>\n",
              "      <td>0</td>\n",
              "      <td>0</td>\n",
              "      <td>0</td>\n",
              "      <td>0</td>\n",
              "      <td>0</td>\n",
              "      <td>0</td>\n",
              "    </tr>\n",
              "  </tbody>\n",
              "</table>\n",
              "<p>5 rows × 31 columns</p>\n",
              "</div>"
            ],
            "text/plain": [
              "         yr  holiday  workingday       temp      hum  windspeed  casual  \\\n",
              "instant                                                                   \n",
              "1         0        0           0  14.110847  80.5833  10.749882     331   \n",
              "2         0        0           0  14.902598  69.6087  16.652113     131   \n",
              "3         0        0           1   8.050924  43.7273  16.636703     120   \n",
              "4         0        0           1   8.200000  59.0435  10.739832     108   \n",
              "5         0        0           1   9.305237  43.6957  12.522300      82   \n",
              "\n",
              "         registered   cnt  season_spring  ...  mnth_Oct  mnth_Sep  \\\n",
              "instant                                   ...                       \n",
              "1               654   985              1  ...         0         0   \n",
              "2               670   801              1  ...         0         0   \n",
              "3              1229  1349              1  ...         0         0   \n",
              "4              1454  1562              1  ...         0         0   \n",
              "5              1518  1600              1  ...         0         0   \n",
              "\n",
              "         weekday_mon  weekday_sat  weekday_sun  weekday_thu  weekday_tues  \\\n",
              "instant                                                                     \n",
              "1                  1            0            0            0             0   \n",
              "2                  0            0            0            0             1   \n",
              "3                  0            0            0            0             0   \n",
              "4                  0            0            0            1             0   \n",
              "5                  0            0            0            0             0   \n",
              "\n",
              "         weekday_wed  weathersit_B  weathersit_C  \n",
              "instant                                           \n",
              "1                  0             1             0  \n",
              "2                  0             1             0  \n",
              "3                  1             0             0  \n",
              "4                  0             0             0  \n",
              "5                  0             0             0  \n",
              "\n",
              "[5 rows x 31 columns]"
            ]
          },
          "metadata": {
            "tags": []
          },
          "execution_count": 60
        }
      ]
    },
    {
      "cell_type": "code",
      "metadata": {
        "id": "NHnyN3aXHS2r"
      },
      "source": [
        "x = df.drop('cnt',axis=1)\n",
        "y = df['cnt']"
      ],
      "execution_count": null,
      "outputs": []
    },
    {
      "cell_type": "code",
      "metadata": {
        "id": "N3bQualtHS2r"
      },
      "source": [
        "from sklearn.model_selection import train_test_split"
      ],
      "execution_count": null,
      "outputs": []
    },
    {
      "cell_type": "code",
      "metadata": {
        "id": "s3KCu1bmHS2s"
      },
      "source": [
        "x_train,x_test,y_train,y_test=train_test_split(x,y,test_size=0.3,random_state=100)"
      ],
      "execution_count": null,
      "outputs": []
    },
    {
      "cell_type": "code",
      "metadata": {
        "id": "mDfW8mGqHS2s"
      },
      "source": [
        "from sklearn.preprocessing import MinMaxScaler"
      ],
      "execution_count": null,
      "outputs": []
    },
    {
      "cell_type": "code",
      "metadata": {
        "id": "1me3971_HS2s"
      },
      "source": [
        "scaler=MinMaxScaler()"
      ],
      "execution_count": null,
      "outputs": []
    },
    {
      "cell_type": "code",
      "metadata": {
        "id": "ztNcTftuHS2t",
        "outputId": "9619c56f-c99d-45e9-dad2-e377b9adf28b"
      },
      "source": [
        "x_train[['temp','hum','windspeed','casual','registered']] = scaler.fit_transform(x_train[['temp','hum','windspeed','casual','registered']])"
      ],
      "execution_count": null,
      "outputs": [
        {
          "output_type": "stream",
          "text": [
            "<ipython-input-66-d65046c1448b>:1: SettingWithCopyWarning: \n",
            "A value is trying to be set on a copy of a slice from a DataFrame.\n",
            "Try using .loc[row_indexer,col_indexer] = value instead\n",
            "\n",
            "See the caveats in the documentation: https://pandas.pydata.org/pandas-docs/stable/user_guide/indexing.html#returning-a-view-versus-a-copy\n",
            "  x_train[['temp','hum','windspeed','casual','registered']] = scaler.fit_transform(x_train[['temp','hum','windspeed','casual','registered']])\n",
            "C:\\Users\\Giridharan.S\\anaconda3\\lib\\site-packages\\pandas\\core\\indexing.py:1736: SettingWithCopyWarning: \n",
            "A value is trying to be set on a copy of a slice from a DataFrame.\n",
            "Try using .loc[row_indexer,col_indexer] = value instead\n",
            "\n",
            "See the caveats in the documentation: https://pandas.pydata.org/pandas-docs/stable/user_guide/indexing.html#returning-a-view-versus-a-copy\n",
            "  isetter(loc, value[:, i].tolist())\n"
          ],
          "name": "stderr"
        }
      ]
    },
    {
      "cell_type": "code",
      "metadata": {
        "id": "q2kfTPfgHS2t",
        "outputId": "07b89add-6c79-4758-db34-22f3c9c57d90"
      },
      "source": [
        "x_test[['temp','hum','windspeed','casual','registered']]=scaler.transform(x_test[['temp','hum','windspeed','casual','registered']] )"
      ],
      "execution_count": null,
      "outputs": [
        {
          "output_type": "stream",
          "text": [
            "<ipython-input-67-a503800af895>:1: SettingWithCopyWarning: \n",
            "A value is trying to be set on a copy of a slice from a DataFrame.\n",
            "Try using .loc[row_indexer,col_indexer] = value instead\n",
            "\n",
            "See the caveats in the documentation: https://pandas.pydata.org/pandas-docs/stable/user_guide/indexing.html#returning-a-view-versus-a-copy\n",
            "  x_test[['temp','hum','windspeed','casual','registered']]=scaler.transform(x_test[['temp','hum','windspeed','casual','registered']] )\n",
            "C:\\Users\\Giridharan.S\\anaconda3\\lib\\site-packages\\pandas\\core\\indexing.py:1736: SettingWithCopyWarning: \n",
            "A value is trying to be set on a copy of a slice from a DataFrame.\n",
            "Try using .loc[row_indexer,col_indexer] = value instead\n",
            "\n",
            "See the caveats in the documentation: https://pandas.pydata.org/pandas-docs/stable/user_guide/indexing.html#returning-a-view-versus-a-copy\n",
            "  isetter(loc, value[:, i].tolist())\n"
          ],
          "name": "stderr"
        }
      ]
    },
    {
      "cell_type": "code",
      "metadata": {
        "id": "xBZGlBqWHS2u"
      },
      "source": [
        "from sklearn.ensemble import GradientBoostingRegressor"
      ],
      "execution_count": null,
      "outputs": []
    },
    {
      "cell_type": "code",
      "metadata": {
        "id": "wnQfCVxAHS2u"
      },
      "source": [
        "model=GradientBoostingRegressor()"
      ],
      "execution_count": null,
      "outputs": []
    },
    {
      "cell_type": "code",
      "metadata": {
        "id": "yJjzkk9AHS2v",
        "outputId": "c196cca7-2ef8-43e1-ef2b-758cfd56629c"
      },
      "source": [
        "model.fit(x_train,y_train)"
      ],
      "execution_count": null,
      "outputs": [
        {
          "output_type": "execute_result",
          "data": {
            "text/plain": [
              "GradientBoostingRegressor()"
            ]
          },
          "metadata": {
            "tags": []
          },
          "execution_count": 70
        }
      ]
    },
    {
      "cell_type": "code",
      "metadata": {
        "id": "XGOLIvonHS2v",
        "outputId": "071f6f57-d4bd-4bbf-9d2e-dc8187ce1f1d"
      },
      "source": [
        "model.score(x_test,y_test)"
      ],
      "execution_count": null,
      "outputs": [
        {
          "output_type": "execute_result",
          "data": {
            "text/plain": [
              "0.9955939965105295"
            ]
          },
          "metadata": {
            "tags": []
          },
          "execution_count": 71
        }
      ]
    },
    {
      "cell_type": "code",
      "metadata": {
        "id": "Uq-j-uCrHS2w",
        "outputId": "9428c534-86f6-4da8-c2d3-be01033f4f69"
      },
      "source": [
        "model.score(x_train,y_train)"
      ],
      "execution_count": null,
      "outputs": [
        {
          "output_type": "execute_result",
          "data": {
            "text/plain": [
              "0.99902233796698"
            ]
          },
          "metadata": {
            "tags": []
          },
          "execution_count": 72
        }
      ]
    }
  ]
}